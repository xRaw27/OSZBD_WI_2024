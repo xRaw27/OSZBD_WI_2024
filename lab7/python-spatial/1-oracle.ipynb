{
 "cells": [
  {
   "cell_type": "code",
   "id": "initial_id",
   "metadata": {
    "collapsed": true,
    "ExecuteTime": {
     "end_time": "2024-05-27T10:21:19.042172Z",
     "start_time": "2024-05-27T10:21:19.040042Z"
    }
   },
   "source": "import oracledb",
   "outputs": [],
   "execution_count": 3
  },
  {
   "metadata": {},
   "cell_type": "markdown",
   "source": "# Połączenie z bazą danych",
   "id": "511796f560073c4"
  },
  {
   "metadata": {
    "ExecuteTime": {
     "end_time": "2024-05-27T10:21:19.106046Z",
     "start_time": "2024-05-27T10:21:19.053546Z"
    }
   },
   "cell_type": "code",
   "source": [
    "cs = oracledb.makedsn(\"dbmanage.lab.ii.agh.edu.pl\", 1521, sid=\"DBMANAGE\")\n",
    "\n",
    "un = \"student\"\n",
    "pw = \"stu638dent\"\n",
    "\n",
    "connection = oracledb.connect(user=un, password=pw, dsn=cs)\n",
    "\n",
    "print(connection)"
   ],
   "id": "8c59f23b803c3c65",
   "outputs": [
    {
     "name": "stdout",
     "output_type": "stream",
     "text": [
      "<oracledb.Connection to student@(DESCRIPTION=(ADDRESS=(PROTOCOL=TCP)(HOST=dbmanage.lab.ii.agh.edu.pl)(PORT=1521))(CONNECT_DATA=(SID=DBMANAGE)))>\n"
     ]
    }
   ],
   "execution_count": 4
  },
  {
   "metadata": {},
   "cell_type": "markdown",
   "source": "# Wybór schematu",
   "id": "f3bfccfcd717874"
  },
  {
   "metadata": {
    "ExecuteTime": {
     "end_time": "2024-05-27T10:21:19.111908Z",
     "start_time": "2024-05-27T10:21:19.107135Z"
    }
   },
   "cell_type": "code",
   "source": [
    "q = \"\"\"ALTER SESSION SET CURRENT_SCHEMA = US_SPAT\"\"\"\n",
    "\n",
    "cursor = connection.cursor()\n",
    "\n",
    "cursor.execute(q)"
   ],
   "id": "e1d4129f0ec2d8e0",
   "outputs": [],
   "execution_count": 5
  },
  {
   "metadata": {},
   "cell_type": "markdown",
   "source": "# Test polecenia pobierającego dane\n",
   "id": "ddd3b511b2283ec6"
  },
  {
   "metadata": {
    "ExecuteTime": {
     "end_time": "2024-05-27T10:21:19.127624Z",
     "start_time": "2024-05-27T10:21:19.112778Z"
    }
   },
   "cell_type": "code",
   "source": [
    "cursor = connection.cursor()\n",
    "\n",
    "q = \"\"\"select id, state from us_states\"\"\";\n",
    "\n",
    "for row in cursor.execute(q):\n",
    "    print(row)"
   ],
   "id": "61371b4fc1537673",
   "outputs": [
    {
     "name": "stdout",
     "output_type": "stream",
     "text": [
      "(29, 'Nevada')\n",
      "(30, 'New Hampshire')\n",
      "(31, 'New Jersey')\n",
      "(32, 'New Mexico')\n",
      "(8, 'Delaware')\n",
      "(9, 'District of Columbia')\n",
      "(10, 'Florida')\n",
      "(11, 'Georgia')\n",
      "(12, 'Hawaii')\n",
      "(13, 'Idaho')\n",
      "(14, 'Illinois')\n",
      "(21, 'Maryland')\n",
      "(22, 'Massachusetts')\n",
      "(23, 'Michigan')\n",
      "(24, 'Minnesota')\n",
      "(25, 'Mississippi')\n",
      "(26, 'Missouri')\n",
      "(27, 'Montana')\n",
      "(28, 'Nebraska')\n",
      "(1, 'Alabama')\n",
      "(2, 'Alaska')\n",
      "(3, 'Arizona')\n",
      "(4, 'Arkansas')\n",
      "(5, 'California')\n",
      "(6, 'Colorado')\n",
      "(7, 'Connecticut')\n",
      "(15, 'Indiana')\n",
      "(16, 'Iowa')\n",
      "(17, 'Kansas')\n",
      "(18, 'Kentucky')\n",
      "(19, 'Louisiana')\n",
      "(20, 'Maine')\n",
      "(33, 'New York')\n",
      "(34, 'North Carolina')\n",
      "(35, 'North Dakota')\n",
      "(36, 'Ohio')\n",
      "(37, 'Oklahoma')\n",
      "(38, 'Oregon')\n",
      "(39, 'Pennsylvania')\n",
      "(40, 'Rhode Island')\n",
      "(41, 'South Carolina')\n",
      "(42, 'South Dakota')\n",
      "(43, 'Tennessee')\n",
      "(44, 'Texas')\n",
      "(45, 'Utah')\n",
      "(46, 'Vermont')\n",
      "(47, 'Virginia')\n",
      "(48, 'Washington')\n",
      "(49, 'West Virginia')\n",
      "(50, 'Wisconsin')\n",
      "(51, 'Wyoming')\n",
      "(52, 'American Samoa')\n",
      "(53, 'Guam')\n",
      "(54, 'Northern Mariana Islands')\n",
      "(55, 'Puerto Rico')\n",
      "(56, 'Virgin Islands of the U.S.')\n"
     ]
    }
   ],
   "execution_count": 6
  },
  {
   "metadata": {
    "ExecuteTime": {
     "end_time": "2024-05-27T10:21:19.130515Z",
     "start_time": "2024-05-27T10:21:19.129118Z"
    }
   },
   "cell_type": "code",
   "source": "",
   "id": "6b5a23f6436f8a4f",
   "outputs": [],
   "execution_count": 6
  }
 ],
 "metadata": {
  "kernelspec": {
   "display_name": "Python 3",
   "language": "python",
   "name": "python3"
  },
  "language_info": {
   "codemirror_mode": {
    "name": "ipython",
    "version": 2
   },
   "file_extension": ".py",
   "mimetype": "text/x-python",
   "name": "python",
   "nbconvert_exporter": "python",
   "pygments_lexer": "ipython2",
   "version": "2.7.6"
  }
 },
 "nbformat": 4,
 "nbformat_minor": 5
}
