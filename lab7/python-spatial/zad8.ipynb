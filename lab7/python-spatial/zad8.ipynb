{
 "cells": [
  {
   "cell_type": "code",
   "id": "initial_id",
   "metadata": {
    "collapsed": true,
    "ExecuteTime": {
     "end_time": "2024-06-09T15:42:08.853606Z",
     "start_time": "2024-06-09T15:42:08.849073Z"
    }
   },
   "source": [
    "import oracledb\n",
    "import folium\n",
    "import geojson\n",
    "\n",
    "from shapely.wkt import dumps, loads"
   ],
   "outputs": [],
   "execution_count": 7
  },
  {
   "metadata": {
    "ExecuteTime": {
     "end_time": "2024-06-09T15:42:09.070300Z",
     "start_time": "2024-06-09T15:42:08.856587Z"
    }
   },
   "cell_type": "code",
   "source": [
    "cs = oracledb.makedsn(\"dbmanage.lab.ii.agh.edu.pl\", 1521, sid=\"DBMANAGE\")\n",
    "\n",
    "un = \"student\"\n",
    "pw = \"stu638dent\"\n",
    "\n",
    "connection = oracledb.connect(user=un, password=pw, dsn=cs)\n",
    "connection.cursor().execute(\"ALTER SESSION SET CURRENT_SCHEMA = US_SPAT\")\n",
    "\n",
    "def output_type_handler(cursor, name, defaultType, size, precision, scale):\n",
    "    if defaultType == oracledb.CLOB:\n",
    "        return cursor.var(oracledb.LONG_STRING, arraysize = cursor.arraysize)\n",
    "    \n",
    "connection.outputtypehandler = output_type_handler"
   ],
   "id": "ea98af3ac2860f12",
   "outputs": [],
   "execution_count": 8
  }
 ],
 "metadata": {
  "kernelspec": {
   "display_name": "Python 3",
   "language": "python",
   "name": "python3"
  },
  "language_info": {
   "codemirror_mode": {
    "name": "ipython",
    "version": 2
   },
   "file_extension": ".py",
   "mimetype": "text/x-python",
   "name": "python",
   "nbconvert_exporter": "python",
   "pygments_lexer": "ipython2",
   "version": "2.7.6"
  }
 },
 "nbformat": 4,
 "nbformat_minor": 5
}
